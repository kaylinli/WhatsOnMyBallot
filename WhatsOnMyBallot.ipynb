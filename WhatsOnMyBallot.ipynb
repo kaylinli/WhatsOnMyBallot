{
  "nbformat": 4,
  "nbformat_minor": 0,
  "metadata": {
    "colab": {
      "name": "WhatsOnMyBallot.ipynb",
      "provenance": [],
      "collapsed_sections": []
    },
    "kernelspec": {
      "name": "python3",
      "display_name": "Python 3"
    },
    "widgets": {
      "application/vnd.jupyter.widget-state+json": {
        "b620fffb4c9e41499bf6c592c0dc2427": {
          "model_module": "@jupyter-widgets/controls",
          "model_name": "ComboboxModel",
          "state": {
            "_view_name": "ComboboxView",
            "style": "IPY_MODEL_f48a0c261e5a48459279d9e44cefd91d",
            "_dom_classes": [],
            "description": "",
            "_model_name": "ComboboxModel",
            "placeholder": "Choose a state!",
            "_view_module": "@jupyter-widgets/controls",
            "_model_module_version": "1.5.0",
            "value": "",
            "_view_count": null,
            "disabled": false,
            "_view_module_version": "1.5.0",
            "continuous_update": true,
            "description_tooltip": null,
            "ensure_option": true,
            "_model_module": "@jupyter-widgets/controls",
            "options": [
              "Alabama",
              "Alaska",
              "Arizona",
              "Arkansas",
              "California",
              "Colorado",
              "Connecticut",
              "Delaware",
              "Florida",
              "Georgia",
              "Hawaii",
              "Idaho",
              "Illinois",
              "Indiana",
              "Iowa",
              "Kansas",
              "Kentucky",
              "Louisiana",
              "Maine",
              "Maryland",
              "Massachusetts",
              "Michigan",
              "Minnesota",
              "Mississippi",
              "Missouri",
              "Montana",
              "Nebraska",
              "Nevada",
              "New Hampshire",
              "New Jersey",
              "New Mexico",
              "New York",
              "North Carolina",
              "North Dakota",
              "Ohio",
              "Oklahoma",
              "Oregon",
              "Pennsylvania",
              "Rhode Island",
              "South Carolina",
              "South Dakota",
              "Tennessee",
              "Texas",
              "Utah",
              "Vermont",
              "Virginia",
              "Washington",
              "Washington D.C.",
              "West Virginia",
              "Wisconsin",
              "Wyoming"
            ],
            "layout": "IPY_MODEL_22dc69fc5e6c4671b7082ffa79cfba9a"
          }
        },
        "f48a0c261e5a48459279d9e44cefd91d": {
          "model_module": "@jupyter-widgets/controls",
          "model_name": "DescriptionStyleModel",
          "state": {
            "_view_name": "StyleView",
            "_model_name": "DescriptionStyleModel",
            "description_width": "",
            "_view_module": "@jupyter-widgets/base",
            "_model_module_version": "1.5.0",
            "_view_count": null,
            "_view_module_version": "1.2.0",
            "_model_module": "@jupyter-widgets/controls"
          }
        },
        "22dc69fc5e6c4671b7082ffa79cfba9a": {
          "model_module": "@jupyter-widgets/base",
          "model_name": "LayoutModel",
          "state": {
            "_view_name": "LayoutView",
            "grid_template_rows": null,
            "right": null,
            "justify_content": null,
            "_view_module": "@jupyter-widgets/base",
            "overflow": null,
            "_model_module_version": "1.2.0",
            "_view_count": null,
            "flex_flow": null,
            "width": null,
            "min_width": null,
            "border": null,
            "align_items": null,
            "bottom": null,
            "_model_module": "@jupyter-widgets/base",
            "top": null,
            "grid_column": null,
            "overflow_y": null,
            "overflow_x": null,
            "grid_auto_flow": null,
            "grid_area": null,
            "grid_template_columns": null,
            "flex": null,
            "_model_name": "LayoutModel",
            "justify_items": null,
            "grid_row": null,
            "max_height": null,
            "align_content": null,
            "visibility": null,
            "align_self": null,
            "height": null,
            "min_height": null,
            "padding": null,
            "grid_auto_rows": null,
            "grid_gap": null,
            "max_width": null,
            "order": null,
            "_view_module_version": "1.2.0",
            "grid_template_areas": null,
            "object_position": null,
            "object_fit": null,
            "grid_auto_columns": null,
            "margin": null,
            "display": null,
            "left": null
          }
        }
      }
    }
  },
  "cells": [
    {
      "cell_type": "markdown",
      "metadata": {
        "id": "iLrLiMM5M_p9"
      },
      "source": [
        "# What's On My Ballot?"
      ]
    },
    {
      "cell_type": "markdown",
      "metadata": {
        "id": "qJjgB-Rumni1"
      },
      "source": [
        "Let's help you figure out what's on your ballot!"
      ]
    },
    {
      "cell_type": "code",
      "metadata": {
        "id": "d24R5NsvNHtQ"
      },
      "source": [
        "# https://blog.cambridgespark.com/collecting-web-data-without-an-api-272a09e4fab7\n",
        "import ipywidgets as widgets"
      ],
      "execution_count": 2,
      "outputs": []
    },
    {
      "cell_type": "code",
      "metadata": {
        "id": "sR_JOViPma8U"
      },
      "source": [
        "import pandas as pd"
      ],
      "execution_count": 3,
      "outputs": []
    },
    {
      "cell_type": "markdown",
      "metadata": {
        "id": "wwLKPXaGNlH-"
      },
      "source": [
        "What state data are you interested in seeing?"
      ]
    },
    {
      "cell_type": "code",
      "metadata": {
        "id": "bkfnBRYXOu2E",
        "outputId": "0ea95b60-d844-428a-b4f4-7379101fc768",
        "colab": {
          "base_uri": "https://localhost:8080/",
          "height": 48,
          "referenced_widgets": [
            "b620fffb4c9e41499bf6c592c0dc2427",
            "f48a0c261e5a48459279d9e44cefd91d",
            "22dc69fc5e6c4671b7082ffa79cfba9a"
          ]
        }
      },
      "source": [
        "stateWidget = widgets.Combobox(\n",
        "    # value='John',\n",
        "    placeholder='Choose a state!',\n",
        "    options=['Alabama','Alaska','Arizona','Arkansas','California','Colorado','Connecticut','Delaware','Florida','Georgia','Hawaii','Idaho','Illinois','Indiana','Iowa','Kansas','Kentucky','Louisiana','Maine','Maryland','Massachusetts','Michigan','Minnesota','Mississippi','Missouri','Montana','Nebraska','Nevada','New Hampshire','New Jersey','New Mexico','New York','North Carolina','North Dakota','Ohio','Oklahoma','Oregon','Pennsylvania','Rhode Island','South Carolina','South Dakota','Tennessee','Texas','Utah','Vermont','Virginia','Washington','Washington D.C.','West Virginia','Wisconsin','Wyoming'],\n",
        "    ensure_option=True,\n",
        "    disabled=False\n",
        ")\n",
        "display(stateWidget)"
      ],
      "execution_count": 4,
      "outputs": [
        {
          "output_type": "display_data",
          "data": {
            "application/vnd.jupyter.widget-view+json": {
              "model_id": "b620fffb4c9e41499bf6c592c0dc2427",
              "version_minor": 0,
              "version_major": 2
            },
            "text/plain": [
              "Combobox(value='', ensure_option=True, options=('Alabama', 'Alaska', 'Arizona', 'Arkansas', 'California', 'Col…"
            ]
          },
          "metadata": {
            "tags": []
          }
        }
      ]
    },
    {
      "cell_type": "code",
      "metadata": {
        "id": "sr8z7EPieTqb",
        "outputId": "6f64f9f8-e1b4-4deb-8c93-1a6a48fca121",
        "colab": {
          "base_uri": "https://localhost:8080/",
          "height": 34
        }
      },
      "source": [
        "state = stateWidget.value\n",
        "print(state)\n",
        "state = state.replace(\" \", \"_\")"
      ],
      "execution_count": 52,
      "outputs": [
        {
          "output_type": "stream",
          "text": [
            "Florida\n"
          ],
          "name": "stdout"
        }
      ]
    },
    {
      "cell_type": "code",
      "metadata": {
        "id": "DLXYr9GCmuRy",
        "outputId": "6e542ed7-8dd6-4902-a490-4e2c8cbcc93f",
        "colab": {
          "base_uri": "https://localhost:8080/",
          "height": 34
        }
      },
      "source": [
        "data = pd.read_html(f'https://ballotpedia.org/{state}_2020_ballot_measures')\n",
        "print(f'Extracted {len(data)} table/s')"
      ],
      "execution_count": 53,
      "outputs": [
        {
          "output_type": "stream",
          "text": [
            "Extracted 10 table/s\n"
          ],
          "name": "stdout"
        }
      ]
    },
    {
      "cell_type": "code",
      "metadata": {
        "id": "eNSq7HgUmvpO",
        "outputId": "334044a1-a79e-4082-e928-7c909e7dd8f2",
        "colab": {
          "base_uri": "https://localhost:8080/",
          "height": 227
        }
      },
      "source": [
        "data[3]"
      ],
      "execution_count": 54,
      "outputs": [
        {
          "output_type": "execute_result",
          "data": {
            "text/html": [
              "<div>\n",
              "<style scoped>\n",
              "    .dataframe tbody tr th:only-of-type {\n",
              "        vertical-align: middle;\n",
              "    }\n",
              "\n",
              "    .dataframe tbody tr th {\n",
              "        vertical-align: top;\n",
              "    }\n",
              "\n",
              "    .dataframe thead th {\n",
              "        text-align: right;\n",
              "    }\n",
              "</style>\n",
              "<table border=\"1\" class=\"dataframe\">\n",
              "  <thead>\n",
              "    <tr style=\"text-align: right;\">\n",
              "      <th></th>\n",
              "      <th>Ballot Measure</th>\n",
              "      <th>Support Contributions</th>\n",
              "      <th>Oppose Contributions</th>\n",
              "      <th>Outcome</th>\n",
              "    </tr>\n",
              "  </thead>\n",
              "  <tbody>\n",
              "    <tr>\n",
              "      <th>0</th>\n",
              "      <td>Florida Amendment 1, Citizen Requirement for V...</td>\n",
              "      <td>$8,296,943.55</td>\n",
              "      <td>$0.00</td>\n",
              "      <td>NaN</td>\n",
              "    </tr>\n",
              "    <tr>\n",
              "      <th>1</th>\n",
              "      <td>Florida Amendment 2, $15 Minimum Wage Initiati...</td>\n",
              "      <td>$5,338,346.91</td>\n",
              "      <td>$535,415.00</td>\n",
              "      <td>NaN</td>\n",
              "    </tr>\n",
              "    <tr>\n",
              "      <th>2</th>\n",
              "      <td>Florida Amendment 3, Top-Two Open Primaries fo...</td>\n",
              "      <td>$6,577,545.00</td>\n",
              "      <td>$0.00</td>\n",
              "      <td>NaN</td>\n",
              "    </tr>\n",
              "    <tr>\n",
              "      <th>3</th>\n",
              "      <td>Florida Amendment 4, Require Constitutional Am...</td>\n",
              "      <td>$9,010,146.76</td>\n",
              "      <td>$0.00</td>\n",
              "      <td>NaN</td>\n",
              "    </tr>\n",
              "    <tr>\n",
              "      <th>4</th>\n",
              "      <td>Florida Amendment 5, Extend \"Save Our Homes\" P...</td>\n",
              "      <td>$0.00</td>\n",
              "      <td>$0.00</td>\n",
              "      <td>NaN</td>\n",
              "    </tr>\n",
              "    <tr>\n",
              "      <th>5</th>\n",
              "      <td>Florida Amendment 6, Homestead Property Tax Di...</td>\n",
              "      <td>$0.00</td>\n",
              "      <td>$0.00</td>\n",
              "      <td>NaN</td>\n",
              "    </tr>\n",
              "  </tbody>\n",
              "</table>\n",
              "</div>"
            ],
            "text/plain": [
              "                                      Ballot Measure  ... Outcome\n",
              "0  Florida Amendment 1, Citizen Requirement for V...  ...     NaN\n",
              "1  Florida Amendment 2, $15 Minimum Wage Initiati...  ...     NaN\n",
              "2  Florida Amendment 3, Top-Two Open Primaries fo...  ...     NaN\n",
              "3  Florida Amendment 4, Require Constitutional Am...  ...     NaN\n",
              "4  Florida Amendment 5, Extend \"Save Our Homes\" P...  ...     NaN\n",
              "5  Florida Amendment 6, Homestead Property Tax Di...  ...     NaN\n",
              "\n",
              "[6 rows x 4 columns]"
            ]
          },
          "metadata": {
            "tags": []
          },
          "execution_count": 54
        }
      ]
    }
  ]
}